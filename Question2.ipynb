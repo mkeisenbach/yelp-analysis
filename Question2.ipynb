{
 "cells": [
  {
   "cell_type": "markdown",
   "metadata": {},
   "source": [
    "# Question 2"
   ]
  },
  {
   "cell_type": "markdown",
   "metadata": {},
   "source": [
    "Can we predict if a business will stay open?"
   ]
  },
  {
   "cell_type": "code",
   "execution_count": 10,
   "metadata": {},
   "outputs": [],
   "source": [
    "import pandas as pd\n",
    "import ProcessData as p\n",
    "import matplotlib.pyplot as plt\n",
    "from sklearn.linear_model import LinearRegression, LogisticRegression\n",
    "from sklearn.ensemble import RandomForestClassifier\n",
    "from sklearn.model_selection import train_test_split\n",
    "from sklearn.metrics import mean_squared_error, r2_score, confusion_matrix"
   ]
  },
  {
   "cell_type": "code",
   "execution_count": 11,
   "metadata": {},
   "outputs": [],
   "source": [
    "# Read in data   \n",
    "business_file = 'yelp_dataset/yelp_academic_dataset_business.json'\n",
    "business_df = pd.read_json(business_file, lines=True)"
   ]
  },
  {
   "cell_type": "code",
   "execution_count": 12,
   "metadata": {},
   "outputs": [
    {
     "data": {
      "text/html": [
       "<style  type=\"text/css\" >\n",
       "    #T_2c01cac8_f032_11e8_b707_5cf370601b04row0_col0 {\n",
       "            background-color:  #b40426;\n",
       "        }    #T_2c01cac8_f032_11e8_b707_5cf370601b04row0_col1 {\n",
       "            background-color:  #3b4cc0;\n",
       "        }    #T_2c01cac8_f032_11e8_b707_5cf370601b04row0_col2 {\n",
       "            background-color:  #3d50c3;\n",
       "        }    #T_2c01cac8_f032_11e8_b707_5cf370601b04row0_col3 {\n",
       "            background-color:  #465ecf;\n",
       "        }    #T_2c01cac8_f032_11e8_b707_5cf370601b04row0_col4 {\n",
       "            background-color:  #4b64d5;\n",
       "        }    #T_2c01cac8_f032_11e8_b707_5cf370601b04row1_col0 {\n",
       "            background-color:  #536edd;\n",
       "        }    #T_2c01cac8_f032_11e8_b707_5cf370601b04row1_col1 {\n",
       "            background-color:  #b40426;\n",
       "        }    #T_2c01cac8_f032_11e8_b707_5cf370601b04row1_col2 {\n",
       "            background-color:  #f2cbb7;\n",
       "        }    #T_2c01cac8_f032_11e8_b707_5cf370601b04row1_col3 {\n",
       "            background-color:  #3e51c5;\n",
       "        }    #T_2c01cac8_f032_11e8_b707_5cf370601b04row1_col4 {\n",
       "            background-color:  #3b4cc0;\n",
       "        }    #T_2c01cac8_f032_11e8_b707_5cf370601b04row2_col0 {\n",
       "            background-color:  #5572df;\n",
       "        }    #T_2c01cac8_f032_11e8_b707_5cf370601b04row2_col1 {\n",
       "            background-color:  #f2cbb7;\n",
       "        }    #T_2c01cac8_f032_11e8_b707_5cf370601b04row2_col2 {\n",
       "            background-color:  #b40426;\n",
       "        }    #T_2c01cac8_f032_11e8_b707_5cf370601b04row2_col3 {\n",
       "            background-color:  #3b4cc0;\n",
       "        }    #T_2c01cac8_f032_11e8_b707_5cf370601b04row2_col4 {\n",
       "            background-color:  #3d50c3;\n",
       "        }    #T_2c01cac8_f032_11e8_b707_5cf370601b04row3_col0 {\n",
       "            background-color:  #5f7fe8;\n",
       "        }    #T_2c01cac8_f032_11e8_b707_5cf370601b04row3_col1 {\n",
       "            background-color:  #3e51c5;\n",
       "        }    #T_2c01cac8_f032_11e8_b707_5cf370601b04row3_col2 {\n",
       "            background-color:  #3b4cc0;\n",
       "        }    #T_2c01cac8_f032_11e8_b707_5cf370601b04row3_col3 {\n",
       "            background-color:  #b40426;\n",
       "        }    #T_2c01cac8_f032_11e8_b707_5cf370601b04row3_col4 {\n",
       "            background-color:  #5e7de7;\n",
       "        }    #T_2c01cac8_f032_11e8_b707_5cf370601b04row4_col0 {\n",
       "            background-color:  #6384eb;\n",
       "        }    #T_2c01cac8_f032_11e8_b707_5cf370601b04row4_col1 {\n",
       "            background-color:  #3b4cc0;\n",
       "        }    #T_2c01cac8_f032_11e8_b707_5cf370601b04row4_col2 {\n",
       "            background-color:  #3d50c3;\n",
       "        }    #T_2c01cac8_f032_11e8_b707_5cf370601b04row4_col3 {\n",
       "            background-color:  #5e7de7;\n",
       "        }    #T_2c01cac8_f032_11e8_b707_5cf370601b04row4_col4 {\n",
       "            background-color:  #b40426;\n",
       "        }</style>  \n",
       "<table id=\"T_2c01cac8_f032_11e8_b707_5cf370601b04\" > \n",
       "<thead>    <tr> \n",
       "        <th class=\"blank level0\" ></th> \n",
       "        <th class=\"col_heading level0 col0\" >is_open</th> \n",
       "        <th class=\"col_heading level0 col1\" >latitude</th> \n",
       "        <th class=\"col_heading level0 col2\" >longitude</th> \n",
       "        <th class=\"col_heading level0 col3\" >review_count</th> \n",
       "        <th class=\"col_heading level0 col4\" >stars</th> \n",
       "    </tr></thead> \n",
       "<tbody>    <tr> \n",
       "        <th id=\"T_2c01cac8_f032_11e8_b707_5cf370601b04level0_row0\" class=\"row_heading level0 row0\" >is_open</th> \n",
       "        <td id=\"T_2c01cac8_f032_11e8_b707_5cf370601b04row0_col0\" class=\"data row0 col0\" >1.0</td> \n",
       "        <td id=\"T_2c01cac8_f032_11e8_b707_5cf370601b04row0_col1\" class=\"data row0 col1\" >-0.0064</td> \n",
       "        <td id=\"T_2c01cac8_f032_11e8_b707_5cf370601b04row0_col2\" class=\"data row0 col2\" >0.0052</td> \n",
       "        <td id=\"T_2c01cac8_f032_11e8_b707_5cf370601b04row0_col3\" class=\"data row0 col3\" >0.037</td> \n",
       "        <td id=\"T_2c01cac8_f032_11e8_b707_5cf370601b04row0_col4\" class=\"data row0 col4\" >0.052</td> \n",
       "    </tr>    <tr> \n",
       "        <th id=\"T_2c01cac8_f032_11e8_b707_5cf370601b04level0_row1\" class=\"row_heading level0 row1\" >latitude</th> \n",
       "        <td id=\"T_2c01cac8_f032_11e8_b707_5cf370601b04row1_col0\" class=\"data row1 col0\" >-0.0064</td> \n",
       "        <td id=\"T_2c01cac8_f032_11e8_b707_5cf370601b04row1_col1\" class=\"data row1 col1\" >1.0</td> \n",
       "        <td id=\"T_2c01cac8_f032_11e8_b707_5cf370601b04row1_col2\" class=\"data row1 col2\" >0.56</td> \n",
       "        <td id=\"T_2c01cac8_f032_11e8_b707_5cf370601b04row1_col3\" class=\"data row1 col3\" >-0.077</td> \n",
       "        <td id=\"T_2c01cac8_f032_11e8_b707_5cf370601b04row1_col4\" class=\"data row1 col4\" >-0.093</td> \n",
       "    </tr>    <tr> \n",
       "        <th id=\"T_2c01cac8_f032_11e8_b707_5cf370601b04level0_row2\" class=\"row_heading level0 row2\" >longitude</th> \n",
       "        <td id=\"T_2c01cac8_f032_11e8_b707_5cf370601b04row2_col0\" class=\"data row2 col0\" >0.0052</td> \n",
       "        <td id=\"T_2c01cac8_f032_11e8_b707_5cf370601b04row2_col1\" class=\"data row2 col1\" >0.56</td> \n",
       "        <td id=\"T_2c01cac8_f032_11e8_b707_5cf370601b04row2_col2\" class=\"data row2 col2\" >1.0</td> \n",
       "        <td id=\"T_2c01cac8_f032_11e8_b707_5cf370601b04row2_col3\" class=\"data row2 col3\" >-0.092</td> \n",
       "        <td id=\"T_2c01cac8_f032_11e8_b707_5cf370601b04row2_col4\" class=\"data row2 col4\" >-0.082</td> \n",
       "    </tr>    <tr> \n",
       "        <th id=\"T_2c01cac8_f032_11e8_b707_5cf370601b04level0_row3\" class=\"row_heading level0 row3\" >review_count</th> \n",
       "        <td id=\"T_2c01cac8_f032_11e8_b707_5cf370601b04row3_col0\" class=\"data row3 col0\" >0.037</td> \n",
       "        <td id=\"T_2c01cac8_f032_11e8_b707_5cf370601b04row3_col1\" class=\"data row3 col1\" >-0.077</td> \n",
       "        <td id=\"T_2c01cac8_f032_11e8_b707_5cf370601b04row3_col2\" class=\"data row3 col2\" >-0.092</td> \n",
       "        <td id=\"T_2c01cac8_f032_11e8_b707_5cf370601b04row3_col3\" class=\"data row3 col3\" >1.0</td> \n",
       "        <td id=\"T_2c01cac8_f032_11e8_b707_5cf370601b04row3_col4\" class=\"data row3 col4\" >0.032</td> \n",
       "    </tr>    <tr> \n",
       "        <th id=\"T_2c01cac8_f032_11e8_b707_5cf370601b04level0_row4\" class=\"row_heading level0 row4\" >stars</th> \n",
       "        <td id=\"T_2c01cac8_f032_11e8_b707_5cf370601b04row4_col0\" class=\"data row4 col0\" >0.052</td> \n",
       "        <td id=\"T_2c01cac8_f032_11e8_b707_5cf370601b04row4_col1\" class=\"data row4 col1\" >-0.093</td> \n",
       "        <td id=\"T_2c01cac8_f032_11e8_b707_5cf370601b04row4_col2\" class=\"data row4 col2\" >-0.082</td> \n",
       "        <td id=\"T_2c01cac8_f032_11e8_b707_5cf370601b04row4_col3\" class=\"data row4 col3\" >0.032</td> \n",
       "        <td id=\"T_2c01cac8_f032_11e8_b707_5cf370601b04row4_col4\" class=\"data row4 col4\" >1.0</td> \n",
       "    </tr></tbody> \n",
       "</table> "
      ],
      "text/plain": [
       "<pandas.io.formats.style.Styler at 0x21e0537a4e0>"
      ]
     },
     "execution_count": 12,
     "metadata": {},
     "output_type": "execute_result"
    }
   ],
   "source": [
    "# Check the correlation matrix\n",
    "business_df.corr().style.format(\"{:.2}\").background_gradient(cmap=plt.get_cmap('coolwarm'), axis=1)"
   ]
  },
  {
   "cell_type": "markdown",
   "metadata": {},
   "source": [
    "There seems to be some correlation between is_open and both latitude and longitude. There doesn't seem to be much correlation between is_open and stars."
   ]
  },
  {
   "cell_type": "code",
   "execution_count": 13,
   "metadata": {},
   "outputs": [
    {
     "data": {
      "text/html": [
       "<div>\n",
       "<style scoped>\n",
       "    .dataframe tbody tr th:only-of-type {\n",
       "        vertical-align: middle;\n",
       "    }\n",
       "\n",
       "    .dataframe tbody tr th {\n",
       "        vertical-align: top;\n",
       "    }\n",
       "\n",
       "    .dataframe thead th {\n",
       "        text-align: right;\n",
       "    }\n",
       "</style>\n",
       "<table border=\"1\" class=\"dataframe\">\n",
       "  <thead>\n",
       "    <tr style=\"text-align: right;\">\n",
       "      <th></th>\n",
       "      <th>latitude</th>\n",
       "      <th>longitude</th>\n",
       "      <th>review_count</th>\n",
       "      <th>stars</th>\n",
       "    </tr>\n",
       "    <tr>\n",
       "      <th>is_open</th>\n",
       "      <th></th>\n",
       "      <th></th>\n",
       "      <th></th>\n",
       "      <th></th>\n",
       "    </tr>\n",
       "  </thead>\n",
       "  <tbody>\n",
       "    <tr>\n",
       "      <th>0</th>\n",
       "      <td>38.579515</td>\n",
       "      <td>-97.694240</td>\n",
       "      <td>23.322475</td>\n",
       "      <td>3.514756</td>\n",
       "    </tr>\n",
       "    <tr>\n",
       "      <th>1</th>\n",
       "      <td>38.491940</td>\n",
       "      <td>-97.449337</td>\n",
       "      <td>33.528307</td>\n",
       "      <td>3.655406</td>\n",
       "    </tr>\n",
       "  </tbody>\n",
       "</table>\n",
       "</div>"
      ],
      "text/plain": [
       "          latitude  longitude  review_count     stars\n",
       "is_open                                              \n",
       "0        38.579515 -97.694240     23.322475  3.514756\n",
       "1        38.491940 -97.449337     33.528307  3.655406"
      ]
     },
     "execution_count": 13,
     "metadata": {},
     "output_type": "execute_result"
    }
   ],
   "source": [
    "business_df.groupby(by=['is_open']).mean()"
   ]
  },
  {
   "cell_type": "code",
   "execution_count": 14,
   "metadata": {},
   "outputs": [],
   "source": [
    "# Process categories and attributes columns\n",
    "categories = ['Restaurants', 'Shopping', 'Nightlife', 'Active Life', 'Beauty & Spas', 'Automotive', 'Home Services']\n",
    "business_df = p.process_business(business_df, categories)\n",
    "\n",
    "# Drop the columns that were processed\n",
    "business_df.drop(['attributes', 'categories'], axis='columns', inplace=True)"
   ]
  },
  {
   "cell_type": "code",
   "execution_count": 15,
   "metadata": {},
   "outputs": [
    {
     "data": {
      "text/plain": [
       "hours                     0.237559\n",
       "latitude                  0.000032\n",
       "longitude                 0.000032\n",
       "Home Services             0.000000\n",
       "BusinessParking_garage    0.000000\n",
       "BestNights_monday         0.000000\n",
       "BestNights_saturday       0.000000\n",
       "BestNights_sunday         0.000000\n",
       "BestNights_thursday       0.000000\n",
       "BestNights_tuesday        0.000000\n",
       "dtype: float64"
      ]
     },
     "execution_count": 15,
     "metadata": {},
     "output_type": "execute_result"
    }
   ],
   "source": [
    "# Check for remaining missing values\n",
    "business_df.isnull().mean().sort_values(ascending=False).head(10)"
   ]
  },
  {
   "cell_type": "code",
   "execution_count": 16,
   "metadata": {},
   "outputs": [],
   "source": [
    "business_df.drop(['hours'], axis='columns', inplace=True)"
   ]
  },
  {
   "cell_type": "markdown",
   "metadata": {},
   "source": [
    "Drop the hours column for now. There are too many missing values and preprocessing would need to be done to make the column useable."
   ]
  },
  {
   "cell_type": "code",
   "execution_count": 17,
   "metadata": {},
   "outputs": [],
   "source": [
    "business_df.dropna(subset=['latitude', 'longitude'], axis='rows', inplace=True)"
   ]
  },
  {
   "cell_type": "code",
   "execution_count": 18,
   "metadata": {},
   "outputs": [],
   "source": [
    "# Drop columns that are essentially unique identifiers\n",
    "business_df.drop(['address', 'business_id', 'name'], axis='columns', inplace=True)"
   ]
  },
  {
   "cell_type": "code",
   "execution_count": 19,
   "metadata": {},
   "outputs": [],
   "source": [
    "business_df.drop(['city', 'neighborhood', 'postal_code'], axis='columns', inplace=True)"
   ]
  },
  {
   "cell_type": "code",
   "execution_count": 20,
   "metadata": {},
   "outputs": [],
   "source": [
    "business_df = pd.get_dummies(business_df, drop_first=True)"
   ]
  },
  {
   "cell_type": "code",
   "execution_count": 21,
   "metadata": {},
   "outputs": [
    {
     "data": {
      "text/plain": [
       "Index(['is_open', 'latitude', 'longitude', 'review_count', 'stars',\n",
       "       'AcceptsInsurance', 'Ambience_casual', 'Ambience_classy',\n",
       "       'Ambience_divey', 'Ambience_hipster',\n",
       "       ...\n",
       "       'RestaurantsPriceRange2_1', 'RestaurantsPriceRange2_2',\n",
       "       'RestaurantsPriceRange2_3', 'RestaurantsPriceRange2_4', 'Smoking_no',\n",
       "       'Smoking_outdoor', 'Smoking_yes', 'WiFi_free', 'WiFi_no', 'WiFi_paid'],\n",
       "      dtype='object', length=180)"
      ]
     },
     "execution_count": 21,
     "metadata": {},
     "output_type": "execute_result"
    }
   ],
   "source": [
    "business_df.columns"
   ]
  },
  {
   "cell_type": "markdown",
   "metadata": {},
   "source": [
    "## Predict if a business will stay open"
   ]
  },
  {
   "cell_type": "code",
   "execution_count": 22,
   "metadata": {},
   "outputs": [
    {
     "name": "stdout",
     "output_type": "stream",
     "text": [
      "188586\n",
      "1    156601\n",
      "0     31985\n",
      "Name: is_open, dtype: int64\n"
     ]
    }
   ],
   "source": [
    "print(business_df.shape[0])\n",
    "print(business_df.is_open.value_counts())"
   ]
  },
  {
   "cell_type": "code",
   "execution_count": 23,
   "metadata": {},
   "outputs": [],
   "source": [
    "y = business_df.is_open\n",
    "X = business_df.drop(['is_open'], axis='columns')\n",
    "\n",
    "X_train, X_test, y_train, y_test = train_test_split(X, y, test_size=.30, random_state=42)"
   ]
  },
  {
   "cell_type": "markdown",
   "metadata": {},
   "source": [
    "### Random Forest"
   ]
  },
  {
   "cell_type": "code",
   "execution_count": 24,
   "metadata": {},
   "outputs": [
    {
     "data": {
      "text/plain": [
       "RandomForestClassifier(bootstrap=True, class_weight=None, criterion='gini',\n",
       "            max_depth=None, max_features='auto', max_leaf_nodes=None,\n",
       "            min_impurity_decrease=0.0, min_impurity_split=None,\n",
       "            min_samples_leaf=1, min_samples_split=2,\n",
       "            min_weight_fraction_leaf=0.0, n_estimators=10, n_jobs=1,\n",
       "            oob_score=False, random_state=None, verbose=0,\n",
       "            warm_start=False)"
      ]
     },
     "execution_count": 24,
     "metadata": {},
     "output_type": "execute_result"
    }
   ],
   "source": [
    "# Random Forest Model\n",
    "rf_model = RandomForestClassifier()\n",
    "rf_model.fit(X_train, y_train)"
   ]
  },
  {
   "cell_type": "code",
   "execution_count": 46,
   "metadata": {},
   "outputs": [
    {
     "name": "stdout",
     "output_type": "stream",
     "text": [
      "train accuracy:  1.0\n",
      "test accuracy:  0.835389564479638\n"
     ]
    }
   ],
   "source": [
    "print('train accuracy: ', rf_model.score(X_train, y_train_preds))\n",
    "print('test accuracy: ', rf_model.score(X_test, y_test))"
   ]
  },
  {
   "cell_type": "markdown",
   "metadata": {},
   "source": [
    "The model is overfitting."
   ]
  },
  {
   "cell_type": "markdown",
   "metadata": {},
   "source": [
    "### Parameter Estimation"
   ]
  },
  {
   "cell_type": "code",
   "execution_count": 35,
   "metadata": {},
   "outputs": [
    {
     "name": "stdout",
     "output_type": "stream",
     "text": [
      "The training F1 Score is 0.9352217896171944\n",
      "The testing F1 Score is 0.915460444840739\n"
     ]
    },
    {
     "data": {
      "text/plain": [
       "RandomForestClassifier(bootstrap=True, class_weight=None, criterion='gini',\n",
       "            max_depth=40, max_features='auto', max_leaf_nodes=None,\n",
       "            min_impurity_decrease=0.0, min_impurity_split=None,\n",
       "            min_samples_leaf=2, min_samples_split=2,\n",
       "            min_weight_fraction_leaf=0.0, n_estimators=10, n_jobs=1,\n",
       "            oob_score=False, random_state=42, verbose=0, warm_start=False)"
      ]
     },
     "execution_count": 35,
     "metadata": {},
     "output_type": "execute_result"
    }
   ],
   "source": [
    "from sklearn.metrics import f1_score, make_scorer\n",
    "from sklearn.model_selection import GridSearchCV\n",
    "\n",
    "clf = RandomForestClassifier(random_state=42)\n",
    "\n",
    "# Create the parameters list you wish to tune.\n",
    "parameters = {'max_depth':[40],'min_samples_leaf':[1,2,5]}\n",
    "\n",
    "# Make an fbeta_score scoring object.\n",
    "scorer = make_scorer(f1_score)\n",
    "\n",
    "# Perform grid search on the classifier using 'scorer' as the scoring method.\n",
    "grid_obj = GridSearchCV(clf, parameters, scoring=scorer)\n",
    "\n",
    "# Fit the grid search object to the training data and find the optimal parameters.\n",
    "grid_fit = grid_obj.fit(X, y)\n",
    "\n",
    "# Get the estimator.\n",
    "best_clf = grid_fit.best_estimator_\n",
    "\n",
    "# Fit the new model.\n",
    "best_clf.fit(X_train, y_train)\n",
    "\n",
    "# Make predictions using the new model.\n",
    "best_train_predictions = best_clf.predict(X_train)\n",
    "best_test_predictions = best_clf.predict(X_test)\n",
    "\n",
    "# Calculate the f1_score of the new model.\n",
    "print('The training F1 Score is', f1_score(best_train_predictions, y_train))\n",
    "print('The testing F1 Score is', f1_score(best_test_predictions, y_test))\n",
    "\n",
    "# Plot the new model.\n",
    "#plot_model(X, y, best_clf)\n",
    "\n",
    "# Let's also explore what parameters ended up being used in the new model.\n",
    "best_clf"
   ]
  },
  {
   "cell_type": "markdown",
   "metadata": {},
   "source": [
    "### Results"
   ]
  },
  {
   "cell_type": "code",
   "execution_count": 36,
   "metadata": {},
   "outputs": [
    {
     "data": {
      "text/plain": [
       "array([[ 1842,  7900],\n",
       "       [  633, 46201]], dtype=int64)"
      ]
     },
     "execution_count": 36,
     "metadata": {},
     "output_type": "execute_result"
    }
   ],
   "source": [
    "confusion_matrix(y_test, best_test_predictions)"
   ]
  },
  {
   "cell_type": "code",
   "execution_count": 38,
   "metadata": {},
   "outputs": [
    {
     "name": "stdout",
     "output_type": "stream",
     "text": [
      "1842 7900 633 46201\n"
     ]
    }
   ],
   "source": [
    "tn, fp, fn, tp = confusion_matrix(y_test, best_test_predictions).ravel()\n",
    "print(tn, fp, fn, tp)"
   ]
  },
  {
   "cell_type": "code",
   "execution_count": 37,
   "metadata": {},
   "outputs": [
    {
     "data": {
      "text/html": [
       "<div>\n",
       "<style scoped>\n",
       "    .dataframe tbody tr th:only-of-type {\n",
       "        vertical-align: middle;\n",
       "    }\n",
       "\n",
       "    .dataframe tbody tr th {\n",
       "        vertical-align: top;\n",
       "    }\n",
       "\n",
       "    .dataframe thead th {\n",
       "        text-align: right;\n",
       "    }\n",
       "</style>\n",
       "<table border=\"1\" class=\"dataframe\">\n",
       "  <thead>\n",
       "    <tr style=\"text-align: right;\">\n",
       "      <th></th>\n",
       "      <th>importance</th>\n",
       "    </tr>\n",
       "  </thead>\n",
       "  <tbody>\n",
       "    <tr>\n",
       "      <th>longitude</th>\n",
       "      <td>0.110092</td>\n",
       "    </tr>\n",
       "    <tr>\n",
       "      <th>review_count</th>\n",
       "      <td>0.109925</td>\n",
       "    </tr>\n",
       "    <tr>\n",
       "      <th>latitude</th>\n",
       "      <td>0.107762</td>\n",
       "    </tr>\n",
       "    <tr>\n",
       "      <th>BikeParking</th>\n",
       "      <td>0.059261</td>\n",
       "    </tr>\n",
       "    <tr>\n",
       "      <th>stars</th>\n",
       "      <td>0.051044</td>\n",
       "    </tr>\n",
       "    <tr>\n",
       "      <th>RestaurantsTableService</th>\n",
       "      <td>0.027935</td>\n",
       "    </tr>\n",
       "    <tr>\n",
       "      <th>Restaurants</th>\n",
       "      <td>0.026919</td>\n",
       "    </tr>\n",
       "    <tr>\n",
       "      <th>WheelchairAccessible</th>\n",
       "      <td>0.021435</td>\n",
       "    </tr>\n",
       "    <tr>\n",
       "      <th>RestaurantsAttire_casual</th>\n",
       "      <td>0.021376</td>\n",
       "    </tr>\n",
       "    <tr>\n",
       "      <th>Alcohol_full_bar</th>\n",
       "      <td>0.020939</td>\n",
       "    </tr>\n",
       "  </tbody>\n",
       "</table>\n",
       "</div>"
      ],
      "text/plain": [
       "                          importance\n",
       "longitude                   0.110092\n",
       "review_count                0.109925\n",
       "latitude                    0.107762\n",
       "BikeParking                 0.059261\n",
       "stars                       0.051044\n",
       "RestaurantsTableService     0.027935\n",
       "Restaurants                 0.026919\n",
       "WheelchairAccessible        0.021435\n",
       "RestaurantsAttire_casual    0.021376\n",
       "Alcohol_full_bar            0.020939"
      ]
     },
     "execution_count": 37,
     "metadata": {},
     "output_type": "execute_result"
    }
   ],
   "source": [
    "feature_importances = pd.DataFrame(best_clf.feature_importances_,\n",
    "                                   index = X_train.columns,\n",
    "                                   columns=['importance']).sort_values('importance',\n",
    "                                                                       ascending=False)\n",
    "feature_importances.head(10)"
   ]
  }
 ],
 "metadata": {
  "kernelspec": {
   "display_name": "Python 3",
   "language": "python",
   "name": "python3"
  },
  "language_info": {
   "codemirror_mode": {
    "name": "ipython",
    "version": 3
   },
   "file_extension": ".py",
   "mimetype": "text/x-python",
   "name": "python",
   "nbconvert_exporter": "python",
   "pygments_lexer": "ipython3",
   "version": "3.6.7"
  }
 },
 "nbformat": 4,
 "nbformat_minor": 2
}
