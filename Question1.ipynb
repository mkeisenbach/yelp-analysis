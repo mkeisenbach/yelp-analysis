{
 "cells": [
  {
   "cell_type": "markdown",
   "metadata": {},
   "source": [
    "# Question 1"
   ]
  },
  {
   "cell_type": "markdown",
   "metadata": {},
   "source": [
    "Is there a difference in the business stars by major categories (Restaurants, Shopping, Nightlife, ...)? Any differences in Restaurant categories? What is the best restaurant in X?"
   ]
  },
  {
   "cell_type": "code",
   "execution_count": null,
   "metadata": {},
   "outputs": [],
   "source": [
    "import pandas as pd\n",
    "import ProcessData as p\n",
    "%matplotlib inline\n",
    "\n",
    "# Read in data   \n",
    "business_file = 'yelp_dataset/yelp_academic_dataset_business.json'\n",
    "business_df = pd.read_json(business_file, lines=True)"
   ]
  },
  {
   "cell_type": "markdown",
   "metadata": {},
   "source": [
    "## Major Categories"
   ]
  },
  {
   "cell_type": "code",
   "execution_count": 1,
   "metadata": {},
   "outputs": [],
   "source": [
    "categories = ['Restaurants', 'Shopping', 'Nightlife', 'Active Life', 'Beauty & Spas', 'Automotive', 'Home Services']\n",
    "business_df = p.process_business(business_df, categories)"
   ]
  },
  {
   "cell_type": "code",
   "execution_count": 2,
   "metadata": {},
   "outputs": [
    {
     "data": {
      "text/plain": [
       "Index(['address', 'attributes', 'business_id', 'categories', 'city', 'hours',\n",
       "       'is_open', 'latitude', 'longitude', 'name',\n",
       "       ...\n",
       "       'Smoking', 'WheelchairAccessible', 'WiFi', 'Restaurants', 'Shopping',\n",
       "       'Nightlife', 'Active Life', 'Beauty & Spas', 'Automotive',\n",
       "       'Home Services'],\n",
       "      dtype='object', length=103)"
      ]
     },
     "execution_count": 2,
     "metadata": {},
     "output_type": "execute_result"
    }
   ],
   "source": [
    "business_df.columns"
   ]
  },
  {
   "cell_type": "code",
   "execution_count": 3,
   "metadata": {},
   "outputs": [],
   "source": [
    "business_df['main_cats'] = business_df[categories].idxmax(1)"
   ]
  },
  {
   "cell_type": "code",
   "execution_count": 7,
   "metadata": {
    "scrolled": true
   },
   "outputs": [
    {
     "name": "stdout",
     "output_type": "stream",
     "text": [
      "Overall mean:  3.6315504817251965\n",
      "main_cats\n",
      "Active Life      4.095717\n",
      "Beauty & Spas    3.963374\n",
      "Shopping         3.640637\n",
      "Home Services    3.613472\n",
      "Automotive       3.599190\n",
      "Nightlife        3.583530\n",
      "Restaurants      3.551136\n",
      "Name: stars, dtype: float64\n"
     ]
    }
   ],
   "source": [
    "print(\"Overall mean: \", business_df.stars.mean())\n",
    "print(business_df.stars.groupby(business_df.main_cats).mean().sort_values(ascending=False))"
   ]
  },
  {
   "cell_type": "code",
   "execution_count": 5,
   "metadata": {},
   "outputs": [
    {
     "data": {
      "text/plain": [
       "<matplotlib.axes._subplots.AxesSubplot at 0x1f25c141748>"
      ]
     },
     "execution_count": 5,
     "metadata": {},
     "output_type": "execute_result"
    },
    {
     "data": {
      "image/png": "[encoded data removed]",
      "text/plain": [
       "<Figure size 432x288 with 1 Axes>"
      ]
     },
     "metadata": {
      "needs_background": "light"
     },
     "output_type": "display_data"
    }
   ],
   "source": [
    "business_df.stars.groupby(business_df.main_cats).mean().sort_values(ascending=False).plot.bar()"
   ]
  },
  {
   "cell_type": "markdown",
   "metadata": {},
   "source": [
    "## Restaurant Categories"
   ]
  },
  {
   "cell_type": "code",
   "execution_count": null,
   "metadata": {},
   "outputs": [],
   "source": [
    "restaurants_df = business_df[business_df.Restaurants == True]"
   ]
  },
  {
   "cell_type": "code",
   "execution_count": 89,
   "metadata": {},
   "outputs": [
    {
     "data": {
      "text/plain": [
       "<matplotlib.axes._subplots.AxesSubplot at 0x1f2650faf60>"
      ]
     },
     "execution_count": 89,
     "metadata": {},
     "output_type": "execute_result"
    },
    {
     "data": {
      "image/png": "[encoded data removed]",
      "text/plain": [
       "<Figure size 432x288 with 1 Axes>"
      ]
     },
     "metadata": {
      "needs_background": "light"
     },
     "output_type": "display_data"
    }
   ],
   "source": [
    "restaurants_df.stars.hist(bins=10)"
   ]
  },
  {
   "cell_type": "code",
   "execution_count": 52,
   "metadata": {
    "collapsed": true
   },
   "outputs": [],
   "source": [
    "restaurant_cats = restaurants_df.categories.str.get_dummies(sep=', ')"
   ]
  },
  {
   "cell_type": "code",
   "execution_count": 84,
   "metadata": {},
   "outputs": [
    {
     "data": {
      "text/html": [
       "<div>\n",
       "<style scoped>\n",
       "    .dataframe tbody tr th:only-of-type {\n",
       "        vertical-align: middle;\n",
       "    }\n",
       "\n",
       "    .dataframe tbody tr th {\n",
       "        vertical-align: top;\n",
       "    }\n",
       "\n",
       "    .dataframe thead th {\n",
       "        text-align: right;\n",
       "    }\n",
       "</style>\n",
       "<table border=\"1\" class=\"dataframe\">\n",
       "  <thead>\n",
       "    <tr style=\"text-align: right;\">\n",
       "      <th></th>\n",
       "      <th>&amp; Probates</th>\n",
       "      <th>Acai Bowls</th>\n",
       "      <th>Accessories</th>\n",
       "      <th>Accountants</th>\n",
       "      <th>Active Life</th>\n",
       "      <th>Acupuncture</th>\n",
       "      <th>Adult Education</th>\n",
       "      <th>Adult Entertainment</th>\n",
       "      <th>Advertising</th>\n",
       "      <th>Afghan</th>\n",
       "      <th>...</th>\n",
       "      <th>Wine Bars</th>\n",
       "      <th>Wine Tasting Classes</th>\n",
       "      <th>Wine Tasting Room</th>\n",
       "      <th>Wine Tours</th>\n",
       "      <th>Wineries</th>\n",
       "      <th>Women's Clothing</th>\n",
       "      <th>Wraps</th>\n",
       "      <th>Yelp Events</th>\n",
       "      <th>Yoga</th>\n",
       "      <th>Zoos</th>\n",
       "    </tr>\n",
       "  </thead>\n",
       "  <tbody>\n",
       "    <tr>\n",
       "      <th>0</th>\n",
       "      <td>0</td>\n",
       "      <td>0</td>\n",
       "      <td>0</td>\n",
       "      <td>0</td>\n",
       "      <td>0</td>\n",
       "      <td>0</td>\n",
       "      <td>0</td>\n",
       "      <td>0</td>\n",
       "      <td>0</td>\n",
       "      <td>0</td>\n",
       "      <td>...</td>\n",
       "      <td>0</td>\n",
       "      <td>0</td>\n",
       "      <td>0</td>\n",
       "      <td>0</td>\n",
       "      <td>0</td>\n",
       "      <td>0</td>\n",
       "      <td>0</td>\n",
       "      <td>0</td>\n",
       "      <td>0</td>\n",
       "      <td>0</td>\n",
       "    </tr>\n",
       "    <tr>\n",
       "      <th>1</th>\n",
       "      <td>0</td>\n",
       "      <td>0</td>\n",
       "      <td>0</td>\n",
       "      <td>0</td>\n",
       "      <td>0</td>\n",
       "      <td>0</td>\n",
       "      <td>0</td>\n",
       "      <td>0</td>\n",
       "      <td>0</td>\n",
       "      <td>0</td>\n",
       "      <td>...</td>\n",
       "      <td>0</td>\n",
       "      <td>0</td>\n",
       "      <td>0</td>\n",
       "      <td>0</td>\n",
       "      <td>0</td>\n",
       "      <td>0</td>\n",
       "      <td>0</td>\n",
       "      <td>0</td>\n",
       "      <td>0</td>\n",
       "      <td>0</td>\n",
       "    </tr>\n",
       "    <tr>\n",
       "      <th>2</th>\n",
       "      <td>0</td>\n",
       "      <td>0</td>\n",
       "      <td>0</td>\n",
       "      <td>0</td>\n",
       "      <td>0</td>\n",
       "      <td>0</td>\n",
       "      <td>0</td>\n",
       "      <td>0</td>\n",
       "      <td>0</td>\n",
       "      <td>0</td>\n",
       "      <td>...</td>\n",
       "      <td>0</td>\n",
       "      <td>0</td>\n",
       "      <td>0</td>\n",
       "      <td>0</td>\n",
       "      <td>0</td>\n",
       "      <td>0</td>\n",
       "      <td>0</td>\n",
       "      <td>0</td>\n",
       "      <td>0</td>\n",
       "      <td>0</td>\n",
       "    </tr>\n",
       "    <tr>\n",
       "      <th>7</th>\n",
       "      <td>0</td>\n",
       "      <td>0</td>\n",
       "      <td>0</td>\n",
       "      <td>0</td>\n",
       "      <td>0</td>\n",
       "      <td>0</td>\n",
       "      <td>0</td>\n",
       "      <td>0</td>\n",
       "      <td>0</td>\n",
       "      <td>0</td>\n",
       "      <td>...</td>\n",
       "      <td>0</td>\n",
       "      <td>0</td>\n",
       "      <td>0</td>\n",
       "      <td>0</td>\n",
       "      <td>0</td>\n",
       "      <td>0</td>\n",
       "      <td>0</td>\n",
       "      <td>0</td>\n",
       "      <td>0</td>\n",
       "      <td>0</td>\n",
       "    </tr>\n",
       "    <tr>\n",
       "      <th>8</th>\n",
       "      <td>0</td>\n",
       "      <td>0</td>\n",
       "      <td>0</td>\n",
       "      <td>0</td>\n",
       "      <td>0</td>\n",
       "      <td>0</td>\n",
       "      <td>0</td>\n",
       "      <td>0</td>\n",
       "      <td>0</td>\n",
       "      <td>0</td>\n",
       "      <td>...</td>\n",
       "      <td>0</td>\n",
       "      <td>0</td>\n",
       "      <td>0</td>\n",
       "      <td>0</td>\n",
       "      <td>0</td>\n",
       "      <td>0</td>\n",
       "      <td>0</td>\n",
       "      <td>0</td>\n",
       "      <td>0</td>\n",
       "      <td>0</td>\n",
       "    </tr>\n",
       "  </tbody>\n",
       "</table>\n",
       "<p>5 rows × 707 columns</p>\n",
       "</div>"
      ],
      "text/plain": [
       "   & Probates  Acai Bowls  Accessories  Accountants  Active Life  Acupuncture  \\\n",
       "0           0           0            0            0            0            0   \n",
       "1           0           0            0            0            0            0   \n",
       "2           0           0            0            0            0            0   \n",
       "7           0           0            0            0            0            0   \n",
       "8           0           0            0            0            0            0   \n",
       "\n",
       "   Adult Education  Adult Entertainment  Advertising  Afghan  ...   Wine Bars  \\\n",
       "0                0                    0            0       0  ...           0   \n",
       "1                0                    0            0       0  ...           0   \n",
       "2                0                    0            0       0  ...           0   \n",
       "7                0                    0            0       0  ...           0   \n",
       "8                0                    0            0       0  ...           0   \n",
       "\n",
       "   Wine Tasting Classes  Wine Tasting Room  Wine Tours  Wineries  \\\n",
       "0                     0                  0           0         0   \n",
       "1                     0                  0           0         0   \n",
       "2                     0                  0           0         0   \n",
       "7                     0                  0           0         0   \n",
       "8                     0                  0           0         0   \n",
       "\n",
       "   Women's Clothing  Wraps  Yelp Events  Yoga  Zoos  \n",
       "0                 0      0            0     0     0  \n",
       "1                 0      0            0     0     0  \n",
       "2                 0      0            0     0     0  \n",
       "7                 0      0            0     0     0  \n",
       "8                 0      0            0     0     0  \n",
       "\n",
       "[5 rows x 707 columns]"
      ]
     },
     "execution_count": 84,
     "metadata": {},
     "output_type": "execute_result"
    }
   ],
   "source": [
    "restaurant_cats.head()"
   ]
  },
  {
   "cell_type": "code",
   "execution_count": 85,
   "metadata": {},
   "outputs": [
    {
     "data": {
      "text/html": [
       "<div>\n",
       "<style scoped>\n",
       "    .dataframe tbody tr th:only-of-type {\n",
       "        vertical-align: middle;\n",
       "    }\n",
       "\n",
       "    .dataframe tbody tr th {\n",
       "        vertical-align: top;\n",
       "    }\n",
       "\n",
       "    .dataframe thead th {\n",
       "        text-align: right;\n",
       "    }\n",
       "</style>\n",
       "<table border=\"1\" class=\"dataframe\">\n",
       "  <thead>\n",
       "    <tr style=\"text-align: right;\">\n",
       "      <th></th>\n",
       "      <th>address</th>\n",
       "      <th>attributes</th>\n",
       "      <th>business_id</th>\n",
       "      <th>categories</th>\n",
       "      <th>city</th>\n",
       "      <th>hours</th>\n",
       "      <th>is_open</th>\n",
       "      <th>latitude</th>\n",
       "      <th>longitude</th>\n",
       "      <th>name</th>\n",
       "      <th>...</th>\n",
       "      <th>WheelchairAccessible</th>\n",
       "      <th>WiFi</th>\n",
       "      <th>Restaurants</th>\n",
       "      <th>Shopping</th>\n",
       "      <th>Nightlife</th>\n",
       "      <th>Active Life</th>\n",
       "      <th>Beauty &amp; Spas</th>\n",
       "      <th>Automotive</th>\n",
       "      <th>Home Services</th>\n",
       "      <th>main_cats</th>\n",
       "    </tr>\n",
       "  </thead>\n",
       "  <tbody>\n",
       "    <tr>\n",
       "      <th>177741</th>\n",
       "      <td>4035 W Chandler Blvd, Ste 4</td>\n",
       "      <td>{'Alcohol': 'none', 'BikeParking': 'False', 'B...</td>\n",
       "      <td>q_B7QQi1FzmT4Axw6ZrnJA</td>\n",
       "      <td>Food, Bankruptcy Law, Lawyers, Pizza, Tax Serv...</td>\n",
       "      <td>Chandler</td>\n",
       "      <td>{'Monday': '8:0-17:0', 'Tuesday': '8:0-17:0', ...</td>\n",
       "      <td>1</td>\n",
       "      <td>33.304735</td>\n",
       "      <td>-111.912146</td>\n",
       "      <td>Law Office of James J Gentile</td>\n",
       "      <td>...</td>\n",
       "      <td>False</td>\n",
       "      <td>False</td>\n",
       "      <td>True</td>\n",
       "      <td>False</td>\n",
       "      <td>False</td>\n",
       "      <td>False</td>\n",
       "      <td>False</td>\n",
       "      <td>False</td>\n",
       "      <td>False</td>\n",
       "      <td>Restaurants</td>\n",
       "    </tr>\n",
       "  </tbody>\n",
       "</table>\n",
       "<p>1 rows × 104 columns</p>\n",
       "</div>"
      ],
      "text/plain": [
       "                            address  \\\n",
       "177741  4035 W Chandler Blvd, Ste 4   \n",
       "\n",
       "                                               attributes  \\\n",
       "177741  {'Alcohol': 'none', 'BikeParking': 'False', 'B...   \n",
       "\n",
       "                   business_id  \\\n",
       "177741  q_B7QQi1FzmT4Axw6ZrnJA   \n",
       "\n",
       "                                               categories      city  \\\n",
       "177741  Food, Bankruptcy Law, Lawyers, Pizza, Tax Serv...  Chandler   \n",
       "\n",
       "                                                    hours  is_open   latitude  \\\n",
       "177741  {'Monday': '8:0-17:0', 'Tuesday': '8:0-17:0', ...        1  33.304735   \n",
       "\n",
       "         longitude                           name     ...       \\\n",
       "177741 -111.912146  Law Office of James J Gentile     ...        \n",
       "\n",
       "       WheelchairAccessible   WiFi  Restaurants  Shopping Nightlife  \\\n",
       "177741                False  False         True     False     False   \n",
       "\n",
       "        Active Life Beauty & Spas Automotive  Home Services    main_cats  \n",
       "177741        False         False      False          False  Restaurants  \n",
       "\n",
       "[1 rows x 104 columns]"
      ]
     },
     "execution_count": 85,
     "metadata": {},
     "output_type": "execute_result"
    }
   ],
   "source": [
    "restaurants_df[restaurants_df.categories.str.contains('Probate')]"
   ]
  },
  {
   "cell_type": "code",
   "execution_count": 82,
   "metadata": {},
   "outputs": [
    {
     "name": "stdout",
     "output_type": "stream",
     "text": [
      "Food, Bankruptcy Law, Lawyers, Pizza, Tax Services, Ice Cream & Frozen Yogurt, Professional Services, Financial Services, Business Consulting, Estate Planning Law, Restaurants, Tax Law, Wills, Trusts, & Probates\n"
     ]
    }
   ],
   "source": [
    "categories = restaurants_df[restaurants_df.categories.str.contains('Probate')].categories\n",
    "print(categories.iloc[0])"
   ]
  },
  {
   "cell_type": "markdown",
   "metadata": {},
   "source": [
    "Let's look at the top 20 most frequent categories."
   ]
  },
  {
   "cell_type": "code",
   "execution_count": 86,
   "metadata": {},
   "outputs": [
    {
     "data": {
      "text/plain": [
       "Restaurants                  57173\n",
       "Food                         11667\n",
       "Nightlife                     7948\n",
       "Bars                          7646\n",
       "Sandwiches                    6912\n",
       "Fast Food                     6812\n",
       "American (Traditional)        6659\n",
       "Pizza                         6603\n",
       "Burgers                       5126\n",
       "Breakfast & Brunch            5023\n",
       "Italian                       4550\n",
       "Mexican                       4419\n",
       "Chinese                       4247\n",
       "American (New)                4230\n",
       "Coffee & Tea                  3108\n",
       "Cafes                         3056\n",
       "Japanese                      2566\n",
       "Chicken Wings                 2538\n",
       "Seafood                       2369\n",
       "Salad                         2350\n",
       "Event Planning & Services     2247\n",
       "Sushi Bars                    2156\n",
       "Delis                         1835\n",
       "Canadian (New)                1828\n",
       "Asian Fusion                  1780\n",
       "dtype: int64"
      ]
     },
     "execution_count": 86,
     "metadata": {},
     "output_type": "execute_result"
    }
   ],
   "source": [
    "restaurant_cats.sum().sort_values(ascending=False)[:25]"
   ]
  },
  {
   "cell_type": "markdown",
   "metadata": {},
   "source": [
    "We can drop 'Restaurants', 'Food', and 'Nightlife' because they don't tell us anything about the type of restaurant. We'll also drop 'Event Planning & Services' because that doesn't really indicate a restaurant."
   ]
  },
  {
   "cell_type": "code",
   "execution_count": 47,
   "metadata": {},
   "outputs": [
    {
     "data": {
      "text/plain": [
       "<matplotlib.axes._subplots.AxesSubplot at 0x1f261ef1860>"
      ]
     },
     "execution_count": 47,
     "metadata": {},
     "output_type": "execute_result"
    },
    {
     "data": {
      "image/png": "[encoded data removed]",
      "text/plain": [
       "<Figure size 432x288 with 1 Axes>"
      ]
     },
     "metadata": {
      "needs_background": "light"
     },
     "output_type": "display_data"
    }
   ],
   "source": [
    "restaurant_cats.drop(['Restaurants', 'Food', 'Nightlife', 'Event Planning & Services'], axis='columns', inplace=True)\n",
    "restaurant_cats.sum().sort_values(ascending=False)[:20].plot.bar()"
   ]
  },
  {
   "cell_type": "code",
   "execution_count": 13,
   "metadata": {},
   "outputs": [
    {
     "data": {
      "text/plain": [
       "3.4908448862150143"
      ]
     },
     "execution_count": 13,
     "metadata": {},
     "output_type": "execute_result"
    }
   ],
   "source": [
    "restaurants_df[restaurant_cats.Bars == True].stars.mean()"
   ]
  },
  {
   "cell_type": "code",
   "execution_count": 39,
   "metadata": {},
   "outputs": [],
   "source": [
    "def get_mean_stars(restaurants_df, restaurant_cats, cats):\n",
    "    means = {}\n",
    "    for cat in cats:\n",
    "        means[cat] = restaurants_df[restaurant_cats[cat] == True].stars.mean()\n",
    "    return pd.Series(means)"
   ]
  },
  {
   "cell_type": "code",
   "execution_count": 48,
   "metadata": {},
   "outputs": [
    {
     "name": "stdout",
     "output_type": "stream",
     "text": [
      "Cafes                     3.823789\n",
      "Delis                     3.612807\n",
      "Salad                     3.600638\n",
      "Sushi Bars                3.583952\n",
      "Breakfast & Brunch        3.579335\n",
      "Japanese                  3.577747\n",
      "Seafood                   3.570283\n",
      "American (New)            3.533806\n",
      "Coffee & Tea              3.501770\n",
      "Italian                   3.494725\n",
      "Bars                      3.490845\n",
      "Sandwiches                3.465929\n",
      "Canadian (New)            3.463895\n",
      "Mexican                   3.436977\n",
      "Pizza                     3.326670\n",
      "American (Traditional)    3.318817\n",
      "Chinese                   3.312809\n",
      "Burgers                   3.025263\n",
      "Chicken Wings             2.959417\n",
      "Fast Food                 2.825822\n",
      "dtype: float64\n"
     ]
    },
    {
     "data": {
      "text/plain": [
       "<matplotlib.axes._subplots.AxesSubplot at 0x1f2640902b0>"
      ]
     },
     "execution_count": 48,
     "metadata": {},
     "output_type": "execute_result"
    },
    {
     "data": {
      "image/png": "[encoded data removed]",
      "text/plain": [
       "<Figure size 432x288 with 1 Axes>"
      ]
     },
     "metadata": {
      "needs_background": "light"
     },
     "output_type": "display_data"
    }
   ],
   "source": [
    "top20 = restaurant_cats.sum().sort_values(ascending=False)[:20]\n",
    "restaurant_means_df = get_mean_stars(restaurants_df, restaurant_cats, top20.index)\n",
    "\n",
    "print(restaurant_means_df.sort_values(ascending=False))\n",
    "restaurant_means_df.sort_values(ascending=False).plot.bar()"
   ]
  }
 ],
 "metadata": {
  "kernelspec": {
   "display_name": "Python 3",
   "language": "python",
   "name": "python3"
  },
  "language_info": {
   "codemirror_mode": {
    "name": "ipython",
    "version": 3
   },
   "file_extension": ".py",
   "mimetype": "text/x-python",
   "name": "python",
   "nbconvert_exporter": "python",
   "pygments_lexer": "ipython3",
   "version": "3.6.7"
  }
 },
 "nbformat": 4,
 "nbformat_minor": 2
}
