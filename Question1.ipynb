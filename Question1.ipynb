{
 "cells": [
  {
   "cell_type": "markdown",
   "metadata": {},
   "source": [
    "# Question 1"
   ]
  },
  {
   "cell_type": "markdown",
   "metadata": {},
   "source": [
    "Is there a difference in the business stars by major categories (Restaurants, Shopping, Nightlife, ...)? Any differences in Restaurant categories?"
   ]
  },
  {
   "cell_type": "code",
   "execution_count": 8,
   "metadata": {},
   "outputs": [
    {
     "name": "stdout",
     "output_type": "stream",
     "text": [
      "(188593, 15)\n"
     ]
    }
   ],
   "source": [
    "import pandas as pd\n",
    "import ProcessData as p\n",
    "import matplotlib.pyplot as plt\n",
    "%matplotlib inline\n",
    "\n",
    "# Read in data   \n",
    "business_file = 'yelp_dataset/yelp_academic_dataset_business.json'\n",
    "business_df = pd.read_json(business_file, lines=True)\n",
    "print(business_df.shape)\n",
    "num_obs = business_df.shape[0]"
   ]
  },
  {
   "cell_type": "markdown",
   "metadata": {},
   "source": [
    "## Major Categories"
   ]
  },
  {
   "cell_type": "markdown",
   "metadata": {},
   "source": [
    "The categories chosen are the ones displayed by Yelp under \"Browse Businesses by Category\". Note: these categories are not mutually exclusive so a business can have multiple categories."
   ]
  },
  {
   "cell_type": "code",
   "execution_count": 9,
   "metadata": {},
   "outputs": [],
   "source": [
    "categories = ['Restaurants', 'Shopping', 'Nightlife', 'Active Life', 'Beauty & Spas', 'Automotive', 'Home Services']\n",
    "business_df = p.process_business(business_df, categories)"
   ]
  },
  {
   "cell_type": "code",
   "execution_count": 10,
   "metadata": {},
   "outputs": [
    {
     "data": {
      "text/plain": [
       "Index(['address', 'attributes', 'business_id', 'categories', 'city', 'hours',\n",
       "       'is_open', 'latitude', 'longitude', 'name',\n",
       "       ...\n",
       "       'Smoking', 'WheelchairAccessible', 'WiFi', 'Restaurants', 'Shopping',\n",
       "       'Nightlife', 'Active Life', 'Beauty & Spas', 'Automotive',\n",
       "       'Home Services'],\n",
       "      dtype='object', length=103)"
      ]
     },
     "execution_count": 10,
     "metadata": {},
     "output_type": "execute_result"
    }
   ],
   "source": [
    "business_df.columns"
   ]
  },
  {
   "cell_type": "code",
   "execution_count": 11,
   "metadata": {},
   "outputs": [
    {
     "name": "stdout",
     "output_type": "stream",
     "text": [
      "Restaurants      57173\n",
      "Shopping         30231\n",
      "Beauty & Spas    18967\n",
      "Home Services    18634\n",
      "Automotive       12656\n",
      "Nightlife        12438\n",
      "Active Life       9119\n",
      "dtype: int64\n",
      "Sum of main categories:  159218\n",
      "Percentage of observations:  0.844241302699464\n"
     ]
    }
   ],
   "source": [
    "counts_by_category = business_df[categories].sum()\n",
    "print(counts_by_category.sort_values(ascending=False))\n",
    "counts_by_category_sum = counts_by_category.sum()\n",
    "print('Sum of main categories: ', counts_by_category_sum)\n",
    "print('Percentage of observations: ', counts_by_category_sum/num_obs)"
   ]
  },
  {
   "cell_type": "markdown",
   "metadata": {},
   "source": [
    "We see that the restaurant category has the largest number of business. Also, the number of businesses labeled by the main categories is 84% of the total number of observations."
   ]
  },
  {
   "cell_type": "code",
   "execution_count": 12,
   "metadata": {},
   "outputs": [
    {
     "name": "stdout",
     "output_type": "stream",
     "text": [
      "Restaurants      0.303155\n",
      "Shopping         0.160298\n",
      "Nightlife        0.065952\n",
      "Active Life      0.048353\n",
      "Beauty & Spas    0.100571\n",
      "Automotive       0.067107\n",
      "Home Services    0.098805\n",
      "dtype: float64\n"
     ]
    },
    {
     "data": {
      "text/plain": [
       "<matplotlib.axes._subplots.AxesSubplot at 0x2548879d0b8>"
      ]
     },
     "execution_count": 12,
     "metadata": {},
     "output_type": "execute_result"
    },
    {
     "data": {
      "image/png": "[encoded data removed]",
      "text/plain": [
       "<Figure size 432x288 with 1 Axes>"
      ]
     },
     "metadata": {
      "needs_background": "light"
     },
     "output_type": "display_data"
    }
   ],
   "source": [
    "per_counts_by_category = business_df[categories].sum()/num_obs\n",
    "print(per_counts_by_category)\n",
    "per_counts_by_category.sort_values(ascending=False).plot.bar(title='% of businesses')"
   ]
  },
  {
   "cell_type": "code",
   "execution_count": 13,
   "metadata": {},
   "outputs": [],
   "source": [
    "# Function for getting the mean stars for a list of categories\n",
    "def get_mean_stars(df, df_cats, cats):\n",
    "    means = {}\n",
    "    for cat in cats:\n",
    "        means[cat] = df[df_cats[cat] == True].stars.mean()\n",
    "    return pd.Series(means)"
   ]
  },
  {
   "cell_type": "code",
   "execution_count": 14,
   "metadata": {},
   "outputs": [
    {
     "data": {
      "text/plain": [
       "Active Life      4.077640\n",
       "Beauty & Spas    3.932725\n",
       "Home Services    3.643796\n",
       "Shopping         3.642337\n",
       "Automotive       3.598728\n",
       "Nightlife        3.534250\n",
       "Restaurants      3.444930\n",
       "dtype: float64"
      ]
     },
     "execution_count": 14,
     "metadata": {},
     "output_type": "execute_result"
    }
   ],
   "source": [
    "categories_mean_stars = get_mean_stars(business_df, business_df, categories)\n",
    "categories_mean_stars.sort_values(ascending=False)"
   ]
  },
  {
   "cell_type": "code",
   "execution_count": 16,
   "metadata": {},
   "outputs": [
    {
     "name": "stdout",
     "output_type": "stream",
     "text": [
      "3.6315504817251965\n"
     ]
    },
    {
     "data": {
      "text/plain": [
       "<matplotlib.lines.Line2D at 0x25487069898>"
      ]
     },
     "execution_count": 16,
     "metadata": {},
     "output_type": "execute_result"
    },
    {
     "data": {
      "image/png": "[encoded data removed]",
      "text/plain": [
       "<Figure size 432x288 with 1 Axes>"
      ]
     },
     "metadata": {
      "needs_background": "light"
     },
     "output_type": "display_data"
    }
   ],
   "source": [
    "categories_mean_stars.sort_values(ascending=False).plot.bar(title='Average stars')\n",
    "overall_mean = business_df.stars.mean() \n",
    "print(overall_mean)\n",
    "plt.axhline(y=overall_mean, linewidth=1, color='r')"
   ]
  },
  {
   "cell_type": "markdown",
   "metadata": {},
   "source": [
    "## Restaurants"
   ]
  },
  {
   "cell_type": "code",
   "execution_count": 19,
   "metadata": {},
   "outputs": [
    {
     "data": {
      "text/plain": [
       "(57173, 103)"
      ]
     },
     "execution_count": 19,
     "metadata": {},
     "output_type": "execute_result"
    }
   ],
   "source": [
    "restaurants_df = business_df[business_df.Restaurants == True]\n",
    "restaurants_df.shape"
   ]
  },
  {
   "cell_type": "code",
   "execution_count": 20,
   "metadata": {},
   "outputs": [
    {
     "data": {
      "text/plain": [
       "<matplotlib.axes._subplots.AxesSubplot at 0x25485345ac8>"
      ]
     },
     "execution_count": 20,
     "metadata": {},
     "output_type": "execute_result"
    },
    {
     "data": {
      "image/png": "[encoded data removed]",
      "text/plain": [
       "<Figure size 432x288 with 1 Axes>"
      ]
     },
     "metadata": {
      "needs_background": "light"
     },
     "output_type": "display_data"
    }
   ],
   "source": [
    "restaurants_df.stars.hist(bins=[1, 1.5, 2, 2.5, 3, 3.5, 4, 4.5, 5, 5.5])"
   ]
  },
  {
   "cell_type": "code",
   "execution_count": 21,
   "metadata": {},
   "outputs": [
    {
     "data": {
      "text/plain": [
       "<matplotlib.axes._subplots.AxesSubplot at 0x2548375d2b0>"
      ]
     },
     "execution_count": 21,
     "metadata": {},
     "output_type": "execute_result"
    },
    {
     "data": {
      "image/png": "[encoded data removed]",
      "text/plain": [
       "<Figure size 432x288 with 1 Axes>"
      ]
     },
     "metadata": {
      "needs_background": "light"
     },
     "output_type": "display_data"
    }
   ],
   "source": [
    "restaurants_df.stars.value_counts().sort_index().plot.bar()"
   ]
  },
  {
   "cell_type": "code",
   "execution_count": 23,
   "metadata": {},
   "outputs": [
    {
     "data": {
      "image/png": "[encoded data removed]",
      "text/plain": [
       "<Figure size 432x288 with 2 Axes>"
      ]
     },
     "metadata": {
      "needs_background": "light"
     },
     "output_type": "display_data"
    }
   ],
   "source": [
    "f, (ax1, ax2) = plt.subplots(1, 2, sharey=True)\n",
    "ax1.hist(restaurants_df.stars, bins=[1, 1.5, 2, 2.5, 3, 3.5, 4, 4.5, 5, 5.5])\n",
    "ax1.set_title('Restaurants')\n",
    "ax2.hist(business_df.stars, bins=[1, 1.5, 2, 2.5, 3, 3.5, 4, 4.5, 5, 5.5])\n",
    "ax2.set_title('All')\n",
    "plt.show()"
   ]
  },
  {
   "cell_type": "markdown",
   "metadata": {},
   "source": [
    "## Restaurant Categories"
   ]
  },
  {
   "cell_type": "code",
   "execution_count": 24,
   "metadata": {},
   "outputs": [],
   "source": [
    "restaurant_cats = restaurants_df.categories.str.get_dummies(sep=', ')"
   ]
  },
  {
   "cell_type": "code",
   "execution_count": 25,
   "metadata": {},
   "outputs": [
    {
     "data": {
      "text/html": [
       "<div>\n",
       "<style scoped>\n",
       "    .dataframe tbody tr th:only-of-type {\n",
       "        vertical-align: middle;\n",
       "    }\n",
       "\n",
       "    .dataframe tbody tr th {\n",
       "        vertical-align: top;\n",
       "    }\n",
       "\n",
       "    .dataframe thead th {\n",
       "        text-align: right;\n",
       "    }\n",
       "</style>\n",
       "<table border=\"1\" class=\"dataframe\">\n",
       "  <thead>\n",
       "    <tr style=\"text-align: right;\">\n",
       "      <th></th>\n",
       "      <th>&amp; Probates</th>\n",
       "      <th>Acai Bowls</th>\n",
       "      <th>Accessories</th>\n",
       "      <th>Accountants</th>\n",
       "      <th>Active Life</th>\n",
       "      <th>Acupuncture</th>\n",
       "      <th>Adult Education</th>\n",
       "      <th>Adult Entertainment</th>\n",
       "      <th>Advertising</th>\n",
       "      <th>Afghan</th>\n",
       "      <th>...</th>\n",
       "      <th>Wine Bars</th>\n",
       "      <th>Wine Tasting Classes</th>\n",
       "      <th>Wine Tasting Room</th>\n",
       "      <th>Wine Tours</th>\n",
       "      <th>Wineries</th>\n",
       "      <th>Women's Clothing</th>\n",
       "      <th>Wraps</th>\n",
       "      <th>Yelp Events</th>\n",
       "      <th>Yoga</th>\n",
       "      <th>Zoos</th>\n",
       "    </tr>\n",
       "  </thead>\n",
       "  <tbody>\n",
       "    <tr>\n",
       "      <th>0</th>\n",
       "      <td>0</td>\n",
       "      <td>0</td>\n",
       "      <td>0</td>\n",
       "      <td>0</td>\n",
       "      <td>0</td>\n",
       "      <td>0</td>\n",
       "      <td>0</td>\n",
       "      <td>0</td>\n",
       "      <td>0</td>\n",
       "      <td>0</td>\n",
       "      <td>...</td>\n",
       "      <td>0</td>\n",
       "      <td>0</td>\n",
       "      <td>0</td>\n",
       "      <td>0</td>\n",
       "      <td>0</td>\n",
       "      <td>0</td>\n",
       "      <td>0</td>\n",
       "      <td>0</td>\n",
       "      <td>0</td>\n",
       "      <td>0</td>\n",
       "    </tr>\n",
       "    <tr>\n",
       "      <th>1</th>\n",
       "      <td>0</td>\n",
       "      <td>0</td>\n",
       "      <td>0</td>\n",
       "      <td>0</td>\n",
       "      <td>0</td>\n",
       "      <td>0</td>\n",
       "      <td>0</td>\n",
       "      <td>0</td>\n",
       "      <td>0</td>\n",
       "      <td>0</td>\n",
       "      <td>...</td>\n",
       "      <td>0</td>\n",
       "      <td>0</td>\n",
       "      <td>0</td>\n",
       "      <td>0</td>\n",
       "      <td>0</td>\n",
       "      <td>0</td>\n",
       "      <td>0</td>\n",
       "      <td>0</td>\n",
       "      <td>0</td>\n",
       "      <td>0</td>\n",
       "    </tr>\n",
       "    <tr>\n",
       "      <th>2</th>\n",
       "      <td>0</td>\n",
       "      <td>0</td>\n",
       "      <td>0</td>\n",
       "      <td>0</td>\n",
       "      <td>0</td>\n",
       "      <td>0</td>\n",
       "      <td>0</td>\n",
       "      <td>0</td>\n",
       "      <td>0</td>\n",
       "      <td>0</td>\n",
       "      <td>...</td>\n",
       "      <td>0</td>\n",
       "      <td>0</td>\n",
       "      <td>0</td>\n",
       "      <td>0</td>\n",
       "      <td>0</td>\n",
       "      <td>0</td>\n",
       "      <td>0</td>\n",
       "      <td>0</td>\n",
       "      <td>0</td>\n",
       "      <td>0</td>\n",
       "    </tr>\n",
       "    <tr>\n",
       "      <th>7</th>\n",
       "      <td>0</td>\n",
       "      <td>0</td>\n",
       "      <td>0</td>\n",
       "      <td>0</td>\n",
       "      <td>0</td>\n",
       "      <td>0</td>\n",
       "      <td>0</td>\n",
       "      <td>0</td>\n",
       "      <td>0</td>\n",
       "      <td>0</td>\n",
       "      <td>...</td>\n",
       "      <td>0</td>\n",
       "      <td>0</td>\n",
       "      <td>0</td>\n",
       "      <td>0</td>\n",
       "      <td>0</td>\n",
       "      <td>0</td>\n",
       "      <td>0</td>\n",
       "      <td>0</td>\n",
       "      <td>0</td>\n",
       "      <td>0</td>\n",
       "    </tr>\n",
       "    <tr>\n",
       "      <th>8</th>\n",
       "      <td>0</td>\n",
       "      <td>0</td>\n",
       "      <td>0</td>\n",
       "      <td>0</td>\n",
       "      <td>0</td>\n",
       "      <td>0</td>\n",
       "      <td>0</td>\n",
       "      <td>0</td>\n",
       "      <td>0</td>\n",
       "      <td>0</td>\n",
       "      <td>...</td>\n",
       "      <td>0</td>\n",
       "      <td>0</td>\n",
       "      <td>0</td>\n",
       "      <td>0</td>\n",
       "      <td>0</td>\n",
       "      <td>0</td>\n",
       "      <td>0</td>\n",
       "      <td>0</td>\n",
       "      <td>0</td>\n",
       "      <td>0</td>\n",
       "    </tr>\n",
       "  </tbody>\n",
       "</table>\n",
       "<p>5 rows × 707 columns</p>\n",
       "</div>"
      ],
      "text/plain": [
       "   & Probates  Acai Bowls  Accessories  Accountants  Active Life  Acupuncture  \\\n",
       "0           0           0            0            0            0            0   \n",
       "1           0           0            0            0            0            0   \n",
       "2           0           0            0            0            0            0   \n",
       "7           0           0            0            0            0            0   \n",
       "8           0           0            0            0            0            0   \n",
       "\n",
       "   Adult Education  Adult Entertainment  Advertising  Afghan  ...   Wine Bars  \\\n",
       "0                0                    0            0       0  ...           0   \n",
       "1                0                    0            0       0  ...           0   \n",
       "2                0                    0            0       0  ...           0   \n",
       "7                0                    0            0       0  ...           0   \n",
       "8                0                    0            0       0  ...           0   \n",
       "\n",
       "   Wine Tasting Classes  Wine Tasting Room  Wine Tours  Wineries  \\\n",
       "0                     0                  0           0         0   \n",
       "1                     0                  0           0         0   \n",
       "2                     0                  0           0         0   \n",
       "7                     0                  0           0         0   \n",
       "8                     0                  0           0         0   \n",
       "\n",
       "   Women's Clothing  Wraps  Yelp Events  Yoga  Zoos  \n",
       "0                 0      0            0     0     0  \n",
       "1                 0      0            0     0     0  \n",
       "2                 0      0            0     0     0  \n",
       "7                 0      0            0     0     0  \n",
       "8                 0      0            0     0     0  \n",
       "\n",
       "[5 rows x 707 columns]"
      ]
     },
     "execution_count": 25,
     "metadata": {},
     "output_type": "execute_result"
    }
   ],
   "source": [
    "restaurant_cats.head()"
   ]
  },
  {
   "cell_type": "code",
   "execution_count": 26,
   "metadata": {},
   "outputs": [
    {
     "data": {
      "text/html": [
       "<div>\n",
       "<style scoped>\n",
       "    .dataframe tbody tr th:only-of-type {\n",
       "        vertical-align: middle;\n",
       "    }\n",
       "\n",
       "    .dataframe tbody tr th {\n",
       "        vertical-align: top;\n",
       "    }\n",
       "\n",
       "    .dataframe thead th {\n",
       "        text-align: right;\n",
       "    }\n",
       "</style>\n",
       "<table border=\"1\" class=\"dataframe\">\n",
       "  <thead>\n",
       "    <tr style=\"text-align: right;\">\n",
       "      <th></th>\n",
       "      <th>address</th>\n",
       "      <th>attributes</th>\n",
       "      <th>business_id</th>\n",
       "      <th>categories</th>\n",
       "      <th>city</th>\n",
       "      <th>hours</th>\n",
       "      <th>is_open</th>\n",
       "      <th>latitude</th>\n",
       "      <th>longitude</th>\n",
       "      <th>name</th>\n",
       "      <th>...</th>\n",
       "      <th>Smoking</th>\n",
       "      <th>WheelchairAccessible</th>\n",
       "      <th>WiFi</th>\n",
       "      <th>Restaurants</th>\n",
       "      <th>Shopping</th>\n",
       "      <th>Nightlife</th>\n",
       "      <th>Active Life</th>\n",
       "      <th>Beauty &amp; Spas</th>\n",
       "      <th>Automotive</th>\n",
       "      <th>Home Services</th>\n",
       "    </tr>\n",
       "  </thead>\n",
       "  <tbody>\n",
       "    <tr>\n",
       "      <th>177741</th>\n",
       "      <td>4035 W Chandler Blvd, Ste 4</td>\n",
       "      <td>{'Alcohol': 'none', 'BikeParking': 'False', 'B...</td>\n",
       "      <td>q_B7QQi1FzmT4Axw6ZrnJA</td>\n",
       "      <td>Food, Bankruptcy Law, Lawyers, Pizza, Tax Serv...</td>\n",
       "      <td>Chandler</td>\n",
       "      <td>{'Monday': '8:0-17:0', 'Tuesday': '8:0-17:0', ...</td>\n",
       "      <td>1</td>\n",
       "      <td>33.304735</td>\n",
       "      <td>-111.912146</td>\n",
       "      <td>Law Office of James J Gentile</td>\n",
       "      <td>...</td>\n",
       "      <td>False</td>\n",
       "      <td>False</td>\n",
       "      <td>False</td>\n",
       "      <td>True</td>\n",
       "      <td>False</td>\n",
       "      <td>False</td>\n",
       "      <td>False</td>\n",
       "      <td>False</td>\n",
       "      <td>False</td>\n",
       "      <td>False</td>\n",
       "    </tr>\n",
       "  </tbody>\n",
       "</table>\n",
       "<p>1 rows × 103 columns</p>\n",
       "</div>"
      ],
      "text/plain": [
       "                            address  \\\n",
       "177741  4035 W Chandler Blvd, Ste 4   \n",
       "\n",
       "                                               attributes  \\\n",
       "177741  {'Alcohol': 'none', 'BikeParking': 'False', 'B...   \n",
       "\n",
       "                   business_id  \\\n",
       "177741  q_B7QQi1FzmT4Axw6ZrnJA   \n",
       "\n",
       "                                               categories      city  \\\n",
       "177741  Food, Bankruptcy Law, Lawyers, Pizza, Tax Serv...  Chandler   \n",
       "\n",
       "                                                    hours  is_open   latitude  \\\n",
       "177741  {'Monday': '8:0-17:0', 'Tuesday': '8:0-17:0', ...        1  33.304735   \n",
       "\n",
       "         longitude                           name      ...       Smoking  \\\n",
       "177741 -111.912146  Law Office of James J Gentile      ...         False   \n",
       "\n",
       "       WheelchairAccessible   WiFi  Restaurants Shopping  Nightlife  \\\n",
       "177741                False  False         True    False      False   \n",
       "\n",
       "       Active Life Beauty & Spas  Automotive  Home Services  \n",
       "177741       False         False       False          False  \n",
       "\n",
       "[1 rows x 103 columns]"
      ]
     },
     "execution_count": 26,
     "metadata": {},
     "output_type": "execute_result"
    }
   ],
   "source": [
    "restaurants_df[restaurants_df.categories.str.contains('Probate')]"
   ]
  },
  {
   "cell_type": "code",
   "execution_count": 27,
   "metadata": {},
   "outputs": [
    {
     "name": "stdout",
     "output_type": "stream",
     "text": [
      "Food, Bankruptcy Law, Lawyers, Pizza, Tax Services, Ice Cream & Frozen Yogurt, Professional Services, Financial Services, Business Consulting, Estate Planning Law, Restaurants, Tax Law, Wills, Trusts, & Probates\n"
     ]
    }
   ],
   "source": [
    "categories = restaurants_df[restaurants_df.categories.str.contains('Probate')].categories\n",
    "print(categories.iloc[0])"
   ]
  },
  {
   "cell_type": "markdown",
   "metadata": {},
   "source": [
    "Ok, that was a strange list of categories for business.<p>\n",
    "To continue, let's look at the top 25 most frequent categories."
   ]
  },
  {
   "cell_type": "code",
   "execution_count": 28,
   "metadata": {},
   "outputs": [
    {
     "data": {
      "text/plain": [
       "Restaurants                  57173\n",
       "Food                         11667\n",
       "Nightlife                     7948\n",
       "Bars                          7646\n",
       "Sandwiches                    6912\n",
       "Fast Food                     6812\n",
       "American (Traditional)        6659\n",
       "Pizza                         6603\n",
       "Burgers                       5126\n",
       "Breakfast & Brunch            5023\n",
       "Italian                       4550\n",
       "Mexican                       4419\n",
       "Chinese                       4247\n",
       "American (New)                4230\n",
       "Coffee & Tea                  3108\n",
       "Cafes                         3056\n",
       "Japanese                      2566\n",
       "Chicken Wings                 2538\n",
       "Seafood                       2369\n",
       "Salad                         2350\n",
       "Event Planning & Services     2247\n",
       "Sushi Bars                    2156\n",
       "Delis                         1835\n",
       "Canadian (New)                1828\n",
       "Asian Fusion                  1780\n",
       "dtype: int64"
      ]
     },
     "execution_count": 28,
     "metadata": {},
     "output_type": "execute_result"
    }
   ],
   "source": [
    "restaurant_cats.sum().sort_values(ascending=False)[:25]"
   ]
  },
  {
   "cell_type": "markdown",
   "metadata": {},
   "source": [
    "We can drop 'Restaurants', 'Food', and 'Nightlife' because they don't tell us anything about the type of restaurant. We'll also drop 'Event Planning & Services' because that doesn't really indicate a restaurant."
   ]
  },
  {
   "cell_type": "code",
   "execution_count": 37,
   "metadata": {},
   "outputs": [
    {
     "data": {
      "text/plain": [
       "<matplotlib.axes._subplots.AxesSubplot at 0x25446eab7f0>"
      ]
     },
     "execution_count": 37,
     "metadata": {},
     "output_type": "execute_result"
    },
    {
     "data": {
      "image/png": "[encoded data removed]",
      "text/plain": [
       "<Figure size 432x288 with 1 Axes>"
      ]
     },
     "metadata": {
      "needs_background": "light"
     },
     "output_type": "display_data"
    }
   ],
   "source": [
    "restaurant_cats.drop(['Restaurants', 'Food', 'Nightlife', 'Event Planning & Services'], axis='columns', inplace=True)\n",
    "restaurant_cats.sum().sort_values(ascending=False)[:20].plot.bar(title = 'Count by Restaurant Category')"
   ]
  },
  {
   "cell_type": "code",
   "execution_count": 39,
   "metadata": {},
   "outputs": [
    {
     "data": {
      "text/plain": [
       "3.4449302992671367"
      ]
     },
     "execution_count": 39,
     "metadata": {},
     "output_type": "execute_result"
    }
   ],
   "source": [
    "rest_stars_mean = restaurants_df[restaurants_df.Restaurants == True].stars.mean()\n",
    "rest_stars_mean"
   ]
  },
  {
   "cell_type": "code",
   "execution_count": 31,
   "metadata": {},
   "outputs": [
    {
     "name": "stdout",
     "output_type": "stream",
     "text": [
      "Cafes                     3.823789\n",
      "Delis                     3.612807\n",
      "Salad                     3.600638\n",
      "Sushi Bars                3.583952\n",
      "Breakfast & Brunch        3.579335\n",
      "Japanese                  3.577747\n",
      "Seafood                   3.570283\n",
      "American (New)            3.533806\n",
      "Coffee & Tea              3.501770\n",
      "Italian                   3.494725\n",
      "Bars                      3.490845\n",
      "Sandwiches                3.465929\n",
      "Canadian (New)            3.463895\n",
      "Mexican                   3.436977\n",
      "Pizza                     3.326670\n",
      "American (Traditional)    3.318817\n",
      "Chinese                   3.312809\n",
      "Burgers                   3.025263\n",
      "Chicken Wings             2.959417\n",
      "Fast Food                 2.825822\n",
      "dtype: float64\n"
     ]
    }
   ],
   "source": [
    "top20 = restaurant_cats.sum().sort_values(ascending=False)[:20]\n",
    "restaurant_means_df = get_mean_stars(restaurants_df, restaurant_cats, top20.index)\n",
    "\n",
    "print(restaurant_means_df.sort_values(ascending=False))"
   ]
  },
  {
   "cell_type": "code",
   "execution_count": 40,
   "metadata": {},
   "outputs": [
    {
     "data": {
      "text/plain": [
       "<matplotlib.lines.Line2D at 0x25444c39828>"
      ]
     },
     "execution_count": 40,
     "metadata": {},
     "output_type": "execute_result"
    },
    {
     "data": {
      "image/png": "[encoded data removed]",
      "text/plain": [
       "<Figure size 432x288 with 1 Axes>"
      ]
     },
     "metadata": {
      "needs_background": "light"
     },
     "output_type": "display_data"
    }
   ],
   "source": [
    "restaurant_means_df.sort_values(ascending=False).plot.bar(title = 'Stars by Restaurant Category')\n",
    "plt.axhline(y=rest_stars_mean, linewidth=1, color='r')"
   ]
  },
  {
   "cell_type": "code",
   "execution_count": 33,
   "metadata": {},
   "outputs": [
    {
     "data": {
      "text/plain": [
       "Index(['address', 'attributes', 'business_id', 'categories', 'city', 'hours',\n",
       "       'is_open', 'latitude', 'longitude', 'name',\n",
       "       ...\n",
       "       'American (New)', 'Coffee & Tea', 'Cafes', 'Japanese', 'Chicken Wings',\n",
       "       'Seafood', 'Salad', 'Sushi Bars', 'Delis', 'Canadian (New)'],\n",
       "      dtype='object', length=123)"
      ]
     },
     "execution_count": 33,
     "metadata": {},
     "output_type": "execute_result"
    }
   ],
   "source": [
    "restaurants_df = pd.concat([restaurants_df, restaurant_cats[top20.index]], axis='columns')\n",
    "restaurants_df.columns"
   ]
  },
  {
   "cell_type": "code",
   "execution_count": 34,
   "metadata": {},
   "outputs": [
    {
     "data": {
      "text/plain": [
       "1         Chicken Wings, Burgers, Caterers, Street Vendo...\n",
       "2         Breakfast & Brunch, Restaurants, French, Sandw...\n",
       "12        Bars, Sports Bars, Dive Bars, Burgers, Nightli...\n",
       "15                           Delis, Restaurants, Sandwiches\n",
       "16        Nightlife, Bars, American (Traditional), Tapas...\n",
       "21                          Fast Food, Burgers, Restaurants\n",
       "22        Nightlife, Bars, American (Traditional), Sport...\n",
       "27          Restaurants, Food, Canadian (New), Coffee & Tea\n",
       "30        Nightlife, Restaurants, Bars, Chicken Wings, A...\n",
       "32                       Fast Food, Restaurants, Sandwiches\n",
       "33        Beer, Wine & Spirits, Italian, Food, American ...\n",
       "39                            Pizza, Fast Food, Restaurants\n",
       "41        Coffee & Tea, Food, Breakfast & Brunch, Restau...\n",
       "47        Event Planning & Services, Soup, Salad, Mexica...\n",
       "59                 Fast Food, Restaurants, Sandwiches, Food\n",
       "73        Asian Fusion, Caterers, Fast Food, Chinese, Re...\n",
       "88        Restaurants, Food, Coffee & Tea, Breakfast & B...\n",
       "94                   Delis, Restaurants, Food, Coffee & Tea\n",
       "106                         Fast Food, Restaurants, Burgers\n",
       "108       Food, Restaurants, Italian, Bars, Wine Bars, D...\n",
       "109          Chinese, Bars, Karaoke, Nightlife, Restaurants\n",
       "110       Restaurants, American (Traditional), Cocktail ...\n",
       "111       American (Traditional), Burgers, Fast Food, Re...\n",
       "112       Nightlife, Bars, Restaurants, Canadian (New), ...\n",
       "114       Sports Bars, American (Traditional), Chicken W...\n",
       "116       Restaurants, Steakhouses, Nightlife, Burgers, ...\n",
       "126       Salad, Chicken Wings, Sandwiches, Pizza, Resta...\n",
       "129                       Restaurants, Pizza, Chicken Wings\n",
       "140       Karaoke, Country Dance Halls, Bars, Nightlife,...\n",
       "141                   Chicken Wings, Restaurants, Fast Food\n",
       "                                ...                        \n",
       "188302    Food, Nightlife, Breakfast & Brunch, Juice Bar...\n",
       "188309         Burgers, American (Traditional), Restaurants\n",
       "188310    Cocktail Bars, Bars, American (Traditional), N...\n",
       "188312               Fast Food, Restaurants, Mexican, Tacos\n",
       "188316                      Fast Food, Restaurants, Burgers\n",
       "188334    Seafood, Cheesesteaks, Delis, Restaurants, San...\n",
       "188343                          Italian, Pizza, Restaurants\n",
       "188346    American (Traditional), Burgers, Sandwiches, R...\n",
       "188351                   Fast Food, Sandwiches, Restaurants\n",
       "188359    Salad, Nightlife, Italian, Restaurants, Bars, ...\n",
       "188360    Greek, American (New), Modern European, Restau...\n",
       "188362    Arts & Entertainment, Nightlife, Music Venues,...\n",
       "188382    Nightlife, Restaurants, American (Traditional)...\n",
       "188418    Salvadoran, Food, Mexican, Burgers, Latin Amer...\n",
       "188419           Buffets, Sushi Bars, Restaurants, Japanese\n",
       "188447    Beer, Wine & Spirits, Bars, Seafood, Restauran...\n",
       "188448    Steakhouses, Seafood, Nightlife, American (New...\n",
       "188452    American (New), Diners, Breakfast & Brunch, Bu...\n",
       "188453                 Mexican, Seafood, Restaurants, Salad\n",
       "188461      Restaurants, Fast Food, American (New), Chinese\n",
       "188467                          Pizza, Restaurants, Italian\n",
       "188488    Casinos, Steakhouses, Bars, Nightlife, Restaur...\n",
       "188504                    Sushi Bars, Restaurants, Japanese\n",
       "188511                     Sushi Bars, Restaurants, Mexican\n",
       "188514    Dance Clubs, Chicken Wings, Bars, Sports Bars,...\n",
       "188518                   Restaurants, Fast Food, Sandwiches\n",
       "188520                   Sandwiches, Fast Food, Restaurants\n",
       "188567           Delis, Restaurants, American (Traditional)\n",
       "188571                Chicken Wings, Fast Food, Restaurants\n",
       "188577    American (Traditional), American (New), Restau...\n",
       "Name: categories, Length: 25007, dtype: object"
      ]
     },
     "execution_count": 34,
     "metadata": {},
     "output_type": "execute_result"
    }
   ],
   "source": [
    "restaurants_df[restaurant_cats[top20.index].sum(axis=1) > 1].categories"
   ]
  },
  {
   "cell_type": "code",
   "execution_count": 35,
   "metadata": {},
   "outputs": [],
   "source": [
    "# Export to csv for use with Tableau\n",
    "restaurants_df.to_csv('yelp_restaurants.csv')"
   ]
  }
 ],
 "metadata": {
  "kernelspec": {
   "display_name": "Python 3",
   "language": "python",
   "name": "python3"
  },
  "language_info": {
   "codemirror_mode": {
    "name": "ipython",
    "version": 3
   },
   "file_extension": ".py",
   "mimetype": "text/x-python",
   "name": "python",
   "nbconvert_exporter": "python",
   "pygments_lexer": "ipython3",
   "version": "3.6.7"
  }
 },
 "nbformat": 4,
 "nbformat_minor": 2
}
